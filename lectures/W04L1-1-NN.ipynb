{
 "cells": [
  {
   "cell_type": "markdown",
   "metadata": {
    "slideshow": {
     "slide_type": "slide"
    }
   },
   "source": [
    "# A First Look at a Neural Network in Keras\n",
    "\n",
    "This notebook is based on the code samples of Chapter 2, Section 1 of [Deep Learning with Python](https://www.manning.com/books/deep-learning-with-python?a_aid=keras&a_bid=76564dff) and hosted on https://github.com/fchollet/deep-learning-with-python-notebooks \n",
    "\n",
    "Note that the original text from the book features far more content, in particular further explanations and figures."
   ]
  },
  {
   "cell_type": "code",
   "execution_count": 1,
   "metadata": {},
   "outputs": [
    {
     "data": {
      "text/plain": "[PhysicalDevice(name='/physical_device:CPU:0', device_type='CPU'),\n PhysicalDevice(name='/physical_device:XLA_CPU:0', device_type='XLA_CPU'),\n PhysicalDevice(name='/physical_device:XLA_GPU:0', device_type='XLA_GPU'),\n PhysicalDevice(name='/physical_device:GPU:0', device_type='GPU')]"
     },
     "execution_count": 1,
     "metadata": {},
     "output_type": "execute_result"
    }
   ],
   "source": [
    "import tensorflow as tf\n",
    "tf.config.experimental.list_physical_devices()"
   ]
  },
  {
   "cell_type": "code",
   "execution_count": 2,
   "metadata": {},
   "outputs": [
    {
     "data": {
      "text/plain": "'2.2.4-tf'"
     },
     "execution_count": 2,
     "metadata": {},
     "output_type": "execute_result"
    }
   ],
   "source": [
    "from tensorflow import keras\n",
    "keras.__version__"
   ]
  },
  {
   "cell_type": "markdown",
   "metadata": {
    "slideshow": {
     "slide_type": "notes"
    }
   },
   "source": [
    "We will now take a look at a first concrete example of a neural network, which makes use of the Python library TensorFlow - Keras to learn to classify \n",
    "hand-written digits. Unless you already have experience with Keras or similar libraries, you will not understand everything about this \n",
    "first example right away. Don't worry, that is perfectly fine. In the next notebooks, we will \n",
    "review each element in our example and explain them in detail. So don't worry if some steps seem arbitrary or look like magic to you! \n",
    "We've got to start somewhere.\n"
   ]
  },
  {
   "cell_type": "markdown",
   "metadata": {
    "slideshow": {
     "slide_type": "slide"
    }
   },
   "source": [
    "# MNIST Dataset\n",
    "* The problem we are trying to solve here is to classify grayscale images of handwritten digits (28 pixels by 28 pixels), into their 10 categories (0 to 9). \n",
    "* The dataset we will use is the **MNIST dataset**, a classic dataset in the machine learning community, which has been around for almost as long as the field itself and has been very intensively studied. \n",
    "* It's a set of 60,000 training images, plus 10,000 test images, assembled by the National Institute of Standards and Technology (the NIST in MNIST) in the 1980s. \n",
    "* You can think of \"solving\" MNIST as the \"Hello World\" of deep learning -- it's what you do to verify that your algorithms are working as expected. \n",
    "* As you become a machine learning practitioner, you will see MNIST come up over and over again, in scientific papers, blog posts, and so on."
   ]
  },
  {
   "cell_type": "markdown",
   "metadata": {
    "slideshow": {
     "slide_type": "slide"
    }
   },
   "source": [
    "The MNIST dataset comes pre-loaded in Keras, in the form of a set of four Numpy arrays:"
   ]
  },
  {
   "cell_type": "code",
   "execution_count": 3,
   "metadata": {},
   "outputs": [],
   "source": [
    "from tensorflow.keras.datasets import mnist\n",
    "\n",
    "(train_images, train_labels), (test_images, test_labels) = mnist.load_data()"
   ]
  },
  {
   "cell_type": "markdown",
   "metadata": {},
   "source": [
    "`train_images` and `train_labels` form the \"training set\", the data that the model will learn from. The model will then be tested on the \n",
    "\"test set\", `test_images` and `test_labels`. Our images are encoded as Numpy arrays, and the labels are simply an array of digits, ranging \n",
    "from 0 to 9. There is a one-to-one correspondence between the images and the labels."
   ]
  },
  {
   "cell_type": "markdown",
   "metadata": {
    "slideshow": {
     "slide_type": "slide"
    }
   },
   "source": [
    "Let's have a look at the training data:"
   ]
  },
  {
   "cell_type": "code",
   "execution_count": 4,
   "metadata": {},
   "outputs": [
    {
     "data": {
      "text/plain": "(60000, 28, 28)"
     },
     "execution_count": 4,
     "metadata": {},
     "output_type": "execute_result"
    }
   ],
   "source": [
    "train_images.shape"
   ]
  },
  {
   "cell_type": "code",
   "execution_count": 5,
   "metadata": {},
   "outputs": [
    {
     "data": {
      "text/plain": "60000"
     },
     "execution_count": 5,
     "metadata": {},
     "output_type": "execute_result"
    }
   ],
   "source": [
    "len(train_labels)"
   ]
  },
  {
   "cell_type": "code",
   "execution_count": 6,
   "metadata": {},
   "outputs": [
    {
     "data": {
      "text/plain": "array([5, 0, 4, ..., 5, 6, 8], dtype=uint8)"
     },
     "execution_count": 6,
     "metadata": {},
     "output_type": "execute_result"
    }
   ],
   "source": [
    "train_labels"
   ]
  },
  {
   "cell_type": "markdown",
   "metadata": {
    "slideshow": {
     "slide_type": "slide"
    }
   },
   "source": [
    "Let's view the first images:"
   ]
  },
  {
   "cell_type": "code",
   "execution_count": 7,
   "metadata": {},
   "outputs": [
    {
     "data": {
      "image/png": "[encoded data removed]",
      "image/svg+xml": "<?xml version=\"1.0\" encoding=\"utf-8\" standalone=\"no\"?>\n<!DOCTYPE svg PUBLIC \"-//W3C//DTD SVG 1.1//EN\"\n  \"http://www.w3.org/Graphics/SVG/1.1/DTD/svg11.dtd\">\n<!-- Created with matplotlib (https://matplotlib.org/) -->\n<svg height=\"91.570694pt\" version=\"1.1\" viewBox=\"0 0 370.133559 91.570694\" width=\"370.133559pt\" xmlns=\"http://www.w3.org/2000/svg\" xmlns:xlink=\"http://www.w3.org/1999/xlink\">\n <defs>\n  <style type=\"text/css\">\n*{stroke-linecap:butt;stroke-linejoin:round;}\n  </style>\n </defs>\n <g id=\"figure_1\">\n  <g id=\"patch_1\">\n   <path d=\"M -0 91.570694 \nL 370.133559 91.570694 \nL 370.133559 0 \nL -0 0 \nz\n\" style=\"fill:none;\"/>\n  </g>\n  <g id=\"axes_1\">\n   <g id=\"patch_2\">\n    <path d=\"M 26.925 67.692569 \nL 84.649138 67.692569 \nL 84.649138 9.968431 \nL 26.925 9.968431 \nz\n\" style=\"fill:#ffffff;\"/>\n   </g>\n   <g clip-path=\"url(#p67b43855d2)\">\n    <image height=\"58\" id=\"image7d3a3a2bf8\" transform=\"scale(1 -1)translate(0 -58)\" width=\"58\" x=\"26.925\" xlink:href=\"data:image/png;base64,\niVBORw0KGgoAAAANSUhEUgAAADoAAAA6CAYAAADhu0ooAAAABHNCSVQICAgIfAhkiAAAA51JREFUaIHt2n9oVWUcx/HXdVedq6WtZSnhXK4209rAUZrDgsr8QwSpWP5RYFSUmFRGf0hgRZHSDxCpBUJoIGgagdCP/0yErDaMwvVD2lo0tcU2NFNx7u72x+Mm13Sbd2cJ9573P+dwnuc5z/d7Ps/v70ncm3gwLQ8Yc7kN+L+IHc01YkdzjeRQGQ423B6uSxoumufdozPAhj0LQSKVAFWv/QZSHX+NzMoIyBtFE0PNoz3314brc91gTcVnYOGEE0O+vCN1CizYtRpUvfQzSB09lqW52RMrejGSU64H3R9cMfDs6fI9YFlxx6BlVx6qA/sbakDpzgOg7/jxSzEhK2JFL4Xk9Gng2JwpoP7VL8BTk1oHLbf6yFyw770wDpRs/jYk9KVGatJ/yBtF88bRSJru+STLy0DL8qng5fpt4IErOwctt6YjNOE9G0KTvnrLvshsihWNtJLa2eDgqnFg0/wtYEFhzwXzn06fAQ//uhScufvIiG2IFR1N+urCgqHloUIwu6YNfFzxaUa+9V2zwN6as4uTEUw7saKXg4/awyhblAh9+WQ69OHFzzwbnn/yTdbvzhtFh9x4jyYF100Gh+srQGGiMSP9ibbFGJmS/cSKjibp+WHULVrXDhpv3Hg2JXz3qt2Pg8pX+jfoXSOuM1Z0NOh+bB7YuvYtUJ4szEif9eFKULUprIR6W9siqztWNErGVM8E29a+CZp7wmi7tCmsZdPfTQTlr4d5tDcd/dQeKxoFBZOCUiUNoc9NS04Aj7z4KLhh+9ejWX0GsaJR8NP6m8HBsvfB8t/vAcU7Gi9aZrSIFc2GgtJrQKorhC/GXpV5gtC89RYwue+rKKsdFrGil0L38rDi+XtRCDwV/FAJmhdszMi35MkQumjcWopzwab0vGrQtirkK1/2fRRmZZA3imZ9wtAfbIL63U0YOsjUT38oovWfoOzmGTvBsb5gyoqyumxMGpS8UTTrPnq6curA/ZzCP87ejRtW2bennL8iCruYokQ45etYdWcw7kRmYys+1DtwP74zBJnTTQeGVWfeKJo3jkZy3Fkw8yaQHj8WHL5rEjg1N0w3JRPDdW/19mG97/OTxWB9yyLw5a07QHvvqYE86zruAz++cRuGPkCLFY20kmQY8wquLb1g+i8vTAepoj5QNiP8l1S0Ivyv9Oc7YZDbX3uuRXSmQiu5Y0f446Xi+cG3fLGiuUbeKBo7mmvEjuYasaO5RuxorvEvrh3tQbzobHEAAAAASUVORK5CYII=\" y=\"-9.692569\"/>\n   </g>\n   <g id=\"matplotlib.axis_1\">\n    <g id=\"xtick_1\">\n     <g id=\"line2d_1\">\n      <defs>\n       <path d=\"M 0 0 \nL 0 3.5 \n\" id=\"mba4932801e\" style=\"stroke:#000000;stroke-width:0.8;\"/>\n      </defs>\n      <g>\n       <use style=\"stroke:#000000;stroke-width:0.8;\" x=\"27.955788\" xlink:href=\"#mba4932801e\" y=\"67.692569\"/>\n      </g>\n     </g>\n     <g id=\"text_1\">\n      <!-- 0 -->\n      <defs>\n       <path d=\"M 31.78125 66.40625 \nQ 24.171875 66.40625 20.328125 58.90625 \nQ 16.5 51.421875 16.5 36.375 \nQ 16.5 21.390625 20.328125 13.890625 \nQ 24.171875 6.390625 31.78125 6.390625 \nQ 39.453125 6.390625 43.28125 13.890625 \nQ 47.125 21.390625 47.125 36.375 \nQ 47.125 51.421875 43.28125 58.90625 \nQ 39.453125 66.40625 31.78125 66.40625 \nz\nM 31.78125 74.21875 \nQ 44.046875 74.21875 50.515625 64.515625 \nQ 56.984375 54.828125 56.984375 36.375 \nQ 56.984375 17.96875 50.515625 8.265625 \nQ 44.046875 -1.421875 31.78125 -1.421875 \nQ 19.53125 -1.421875 13.0625 8.265625 \nQ 6.59375 17.96875 6.59375 36.375 \nQ 6.59375 54.828125 13.0625 64.515625 \nQ 19.53125 74.21875 31.78125 74.21875 \nz\n\" id=\"DejaVuSans-48\"/>\n      </defs>\n      <g transform=\"translate(24.774538 82.291006)scale(0.1 -0.1)\">\n       <use xlink:href=\"#DejaVuSans-48\"/>\n      </g>\n     </g>\n    </g>\n    <g id=\"xtick_2\">\n     <g id=\"line2d_2\">\n      <g>\n       <use style=\"stroke:#000000;stroke-width:0.8;\" x=\"79.495197\" xlink:href=\"#mba4932801e\" y=\"67.692569\"/>\n      </g>\n     </g>\n     <g id=\"text_2\">\n      <!-- 25 -->\n      <defs>\n       <path d=\"M 19.1875 8.296875 \nL 53.609375 8.296875 \nL 53.609375 0 \nL 7.328125 0 \nL 7.328125 8.296875 \nQ 12.9375 14.109375 22.625 23.890625 \nQ 32.328125 33.6875 34.8125 36.53125 \nQ 39.546875 41.84375 41.421875 45.53125 \nQ 43.3125 49.21875 43.3125 52.78125 \nQ 43.3125 58.59375 39.234375 62.25 \nQ 35.15625 65.921875 28.609375 65.921875 \nQ 23.96875 65.921875 18.8125 64.3125 \nQ 13.671875 62.703125 7.8125 59.421875 \nL 7.8125 69.390625 \nQ 13.765625 71.78125 18.9375 73 \nQ 24.125 74.21875 28.421875 74.21875 \nQ 39.75 74.21875 46.484375 68.546875 \nQ 53.21875 62.890625 53.21875 53.421875 \nQ 53.21875 48.921875 51.53125 44.890625 \nQ 49.859375 40.875 45.40625 35.40625 \nQ 44.1875 33.984375 37.640625 27.21875 \nQ 31.109375 20.453125 19.1875 8.296875 \nz\n\" id=\"DejaVuSans-50\"/>\n       <path d=\"M 10.796875 72.90625 \nL 49.515625 72.90625 \nL 49.515625 64.59375 \nL 19.828125 64.59375 \nL 19.828125 46.734375 \nQ 21.96875 47.46875 24.109375 47.828125 \nQ 26.265625 48.1875 28.421875 48.1875 \nQ 40.625 48.1875 47.75 41.5 \nQ 54.890625 34.8125 54.890625 23.390625 \nQ 54.890625 11.625 47.5625 5.09375 \nQ 40.234375 -1.421875 26.90625 -1.421875 \nQ 22.3125 -1.421875 17.546875 -0.640625 \nQ 12.796875 0.140625 7.71875 1.703125 \nL 7.71875 11.625 \nQ 12.109375 9.234375 16.796875 8.0625 \nQ 21.484375 6.890625 26.703125 6.890625 \nQ 35.15625 6.890625 40.078125 11.328125 \nQ 45.015625 15.765625 45.015625 23.390625 \nQ 45.015625 31 40.078125 35.4375 \nQ 35.15625 39.890625 26.703125 39.890625 \nQ 22.75 39.890625 18.8125 39.015625 \nQ 14.890625 38.140625 10.796875 36.28125 \nz\n\" id=\"DejaVuSans-53\"/>\n      </defs>\n      <g transform=\"translate(73.132697 82.291006)scale(0.1 -0.1)\">\n       <use xlink:href=\"#DejaVuSans-50\"/>\n       <use x=\"63.623047\" xlink:href=\"#DejaVuSans-53\"/>\n      </g>\n     </g>\n    </g>\n   </g>\n   <g id=\"matplotlib.axis_2\">\n    <g id=\"ytick_1\">\n     <g id=\"line2d_3\">\n      <defs>\n       <path d=\"M 0 0 \nL -3.5 0 \n\" id=\"m695dd28f32\" style=\"stroke:#000000;stroke-width:0.8;\"/>\n      </defs>\n      <g>\n       <use style=\"stroke:#000000;stroke-width:0.8;\" x=\"26.925\" xlink:href=\"#m695dd28f32\" y=\"10.999219\"/>\n      </g>\n     </g>\n     <g id=\"text_3\">\n      <!-- 0 -->\n      <g transform=\"translate(13.5625 14.798437)scale(0.1 -0.1)\">\n       <use xlink:href=\"#DejaVuSans-48\"/>\n      </g>\n     </g>\n    </g>\n    <g id=\"ytick_2\">\n     <g id=\"line2d_4\">\n      <g>\n       <use style=\"stroke:#000000;stroke-width:0.8;\" x=\"26.925\" xlink:href=\"#m695dd28f32\" y=\"52.230746\"/>\n      </g>\n     </g>\n     <g id=\"text_4\">\n      <!-- 20 -->\n      <g transform=\"translate(7.2 56.029965)scale(0.1 -0.1)\">\n       <use xlink:href=\"#DejaVuSans-50\"/>\n       <use x=\"63.623047\" xlink:href=\"#DejaVuSans-48\"/>\n      </g>\n     </g>\n    </g>\n   </g>\n   <g id=\"patch_3\">\n    <path d=\"M 26.925 67.692569 \nL 26.925 9.968431 \n\" style=\"fill:none;stroke:#000000;stroke-linecap:square;stroke-linejoin:miter;stroke-width:0.8;\"/>\n   </g>\n   <g id=\"patch_4\">\n    <path d=\"M 84.649138 67.692569 \nL 84.649138 9.968431 \n\" style=\"fill:none;stroke:#000000;stroke-linecap:square;stroke-linejoin:miter;stroke-width:0.8;\"/>\n   </g>\n   <g id=\"patch_5\">\n    <path d=\"M 26.925 67.692569 \nL 84.649138 67.692569 \n\" style=\"fill:none;stroke:#000000;stroke-linecap:square;stroke-linejoin:miter;stroke-width:0.8;\"/>\n   </g>\n   <g id=\"patch_6\">\n    <path d=\"M 26.925 9.968431 \nL 84.649138 9.968431 \n\" style=\"fill:none;stroke:#000000;stroke-linecap:square;stroke-linejoin:miter;stroke-width:0.8;\"/>\n   </g>\n  </g>\n  <g id=\"axes_2\">\n   <g id=\"patch_7\">\n    <path d=\"M 96.193966 67.692569 \nL 153.918103 67.692569 \nL 153.918103 9.968431 \nL 96.193966 9.968431 \nz\n\" style=\"fill:#ffffff;\"/>\n   </g>\n   <g clip-path=\"url(#p69dff7ae5c)\">\n    <image height=\"58\" id=\"imageef6e60a3a5\" transform=\"scale(1 -1)translate(0 -58)\" width=\"58\" x=\"96.193966\" xlink:href=\"data:image/png;base64,\niVBORw0KGgoAAAANSUhEUgAAADoAAAA6CAYAAADhu0ooAAAABHNCSVQICAgIfAhkiAAABERJREFUaIHt2W1ollUYB/DfNqdOKdOJmISatqkV5HwJJUrRMiPJKNGEWi4jQROzUPqiSIQYlS/ZLMwSFVOoLCJKyxfWi8p8qyyd04amYfYmlvjS3NaHsz1u5nL3Ng323P8v5zznPuc613X/n3Od/zl3yp0poyokAVL/bweuFOJAmxriQJsa4kCbGprVe2C3rol60eSOYM/ohSC18v2VKwc9P54Ieiw6BSp2fV/faeuNpGE0JaoySsvuDrJXHUq0vdBxS40+FzJahV1nQ/vYgieCjbwdEd2tP5KG0chr9NjgDuD9jqtr7fP5meZg/9mwdvPaHAQ5LQLDRcNeB1O33Q7Wbu4NsqZsjepOnZE0jCZNoPXeXqrjTMU5kLP+SdB9afiLpv/8F3hj0H2g3ZgjYHLnDWBBp6/Ah/fsAbO7DQdX57cBzdduawz3EDP6H0gJRWq1d1RwOhNkjau5XZRVlu33HQiVxaHIlw2mPzcQvJc7F2ztswr0mfAI6LQ2sne1Ima0VlTKi+piYMqXY0G2aAKgy8wgNJ7aECTib0+fBttvXQaGrh0DWg8viezmhYgZjYKXbnsHLNatXuNTC3aBjttagV5zQvbe++CrYN3+kIXnzMhNjLlqdTRxETMaBZlpJ4OxyqPbuZKD9bJTfioc43o8uxv0bDYJFI98DSyfdCDR99S6tqDs+PE62Y4ZrXVASIxOlP+daBvYMpQluZ1A51kHG+RUFbPZEwtDw8hQrOz2SaJPrwUTQFZuzGgNRGb0mhVh73t+yuBE28vXhgzYd1jQrL/Oarhj1ZGekgZKq10RDO8V5vqhjjZiRi+Fb2f0TtTLl2wGb3b5DNx1f8iWGR8UNsS3BEorgmqursbKKlIi2YgZvRQyCs5fWY4oegB81HMNWLJgHhjX8hnQ9osfQUXrDFBWXNeV1XiIGb0UqvY6SJt+PRgwM5wjC/utBHNn54ONJ28EaxYOAZmNwGjh0S6gg6I69Y8ZjYKKHWG9tp+bA4qXBdWU06JZZfkdKHgoC6S9G3TqH/f2AL/fHDJodv5hcO7wkYvOc6zsbKKeOb9VJB+ThtHInyTqgnND+oJX3grnyez05jWe5x0aCrav7wV2jw/9Np0OovnFvIfBie7hd+HscHrpv3N0wka7EcWRfEoaRhtljf7L6MZwdzT268fAtv7LazyvUlCp48P9bpXiGZQRMvm0fmG/vWnUXlRTRg3478WMNgauy/0JDLsjaN+p894G97S6+Bly5i/9QfrJQN3Srp9WPgl8/LknM9G3fURfkobRpAn0smwvtaF0WD8wfdEKMLQy+VQlo5LSUnCivAXOf0+9+/FwwZ2xaXfCVvmZM5Hmjhm9nCgfFKTi/GWLwA3pF8+J+0rDtjKt64AGzxkzeiVQJRWPTgxi/ZuB4ePSLVseBZ3yg3RM27SzwXPFjDY1JA2jcaBNDXGgTQ1xoE0N/wCHJyXSu+QfswAAAABJRU5ErkJggg==\" y=\"-9.692569\"/>\n   </g>\n   <g id=\"matplotlib.axis_3\">\n    <g id=\"xtick_3\">\n     <g id=\"line2d_5\">\n      <g>\n       <use style=\"stroke:#000000;stroke-width:0.8;\" x=\"97.224754\" xlink:href=\"#mba4932801e\" y=\"67.692569\"/>\n      </g>\n     </g>\n     <g id=\"text_5\">\n      <!-- 0 -->\n      <g transform=\"translate(94.043504 82.291006)scale(0.1 -0.1)\">\n       <use xlink:href=\"#DejaVuSans-48\"/>\n      </g>\n     </g>\n    </g>\n    <g id=\"xtick_4\">\n     <g id=\"line2d_6\">\n      <g>\n       <use style=\"stroke:#000000;stroke-width:0.8;\" x=\"148.764163\" xlink:href=\"#mba4932801e\" y=\"67.692569\"/>\n      </g>\n     </g>\n     <g id=\"text_6\">\n      <!-- 25 -->\n      <g transform=\"translate(142.401663 82.291006)scale(0.1 -0.1)\">\n       <use xlink:href=\"#DejaVuSans-50\"/>\n       <use x=\"63.623047\" xlink:href=\"#DejaVuSans-53\"/>\n      </g>\n     </g>\n    </g>\n   </g>\n   <g id=\"matplotlib.axis_4\">\n    <g id=\"ytick_3\">\n     <g id=\"line2d_7\">\n      <g>\n       <use style=\"stroke:#000000;stroke-width:0.8;\" x=\"96.193966\" xlink:href=\"#m695dd28f32\" y=\"10.999219\"/>\n      </g>\n     </g>\n     <g id=\"text_7\">\n      <!-- 0 -->\n      <g transform=\"translate(82.831466 14.798438)scale(0.1 -0.1)\">\n       <use xlink:href=\"#DejaVuSans-48\"/>\n      </g>\n     </g>\n    </g>\n    <g id=\"ytick_4\">\n     <g id=\"line2d_8\">\n      <g>\n       <use style=\"stroke:#000000;stroke-width:0.8;\" x=\"96.193966\" xlink:href=\"#m695dd28f32\" y=\"52.230746\"/>\n      </g>\n     </g>\n     <g id=\"text_8\">\n      <!-- 20 -->\n      <g transform=\"translate(76.468966 56.029965)scale(0.1 -0.1)\">\n       <use xlink:href=\"#DejaVuSans-50\"/>\n       <use x=\"63.623047\" xlink:href=\"#DejaVuSans-48\"/>\n      </g>\n     </g>\n    </g>\n   </g>\n   <g id=\"patch_8\">\n    <path d=\"M 96.193966 67.692569 \nL 96.193966 9.968431 \n\" style=\"fill:none;stroke:#000000;stroke-linecap:square;stroke-linejoin:miter;stroke-width:0.8;\"/>\n   </g>\n   <g id=\"patch_9\">\n    <path d=\"M 153.918103 67.692569 \nL 153.918103 9.968431 \n\" style=\"fill:none;stroke:#000000;stroke-linecap:square;stroke-linejoin:miter;stroke-width:0.8;\"/>\n   </g>\n   <g id=\"patch_10\">\n    <path d=\"M 96.193966 67.692569 \nL 153.918103 67.692569 \n\" style=\"fill:none;stroke:#000000;stroke-linecap:square;stroke-linejoin:miter;stroke-width:0.8;\"/>\n   </g>\n   <g id=\"patch_11\">\n    <path d=\"M 96.193966 9.968431 \nL 153.918103 9.968431 \n\" style=\"fill:none;stroke:#000000;stroke-linecap:square;stroke-linejoin:miter;stroke-width:0.8;\"/>\n   </g>\n  </g>\n  <g id=\"axes_3\">\n   <g id=\"patch_12\">\n    <path d=\"M 165.462931 67.692569 \nL 223.187069 67.692569 \nL 223.187069 9.968431 \nL 165.462931 9.968431 \nz\n\" style=\"fill:#ffffff;\"/>\n   </g>\n   <g clip-path=\"url(#pecb4a3a52d)\">\n    <image height=\"58\" id=\"imageb96d7344fe\" transform=\"scale(1 -1)translate(0 -58)\" width=\"58\" x=\"165.462931\" xlink:href=\"data:image/png;base64,\niVBORw0KGgoAAAANSUhEUgAAADoAAAA6CAYAAADhu0ooAAAABHNCSVQICAgIfAhkiAAAAu9JREFUaIHtmktIVFEYx393pkbHKLRRSVPKhDDoYdAQWVHCtJaoXLgISimqTVLQSloUtXXhxpZRqwymFJLI8FFETWUR0gMrHxU+SkrQCXWcFt888jE4Y9eZ6d7z25x77znnO993/+dxz71Xc2mH/ZgAS6IdiBcqUKOhAjUayxLtwN8MVJcA8PJ8HQBFbccB2FDx6p9tK0UTQYprGACrpv/9V4omEp9/WnebStFkIM2Tppst0yhqmkCTsuuGlhcd5ySlaCIJLi8ZHyZ1s2kaRVWgRiOpA+0t0+gt03SxldSB6smCs+7nq7sAyHd+jdro8L08ABxdMmvamj1R1Rtvz5KDYkkul94G4Dr5UbcdCaVo943tALwrldcabydFnbujxRGNXXB0AWDZJOPK658A4JvPB0Dd8H4AGl9vAyC90wZAzv1BAPJqXwDgOSnv1MtWSC9SisZAREVTUkVBC6LOsSvVAGReexLRWNveKgD8VqnT70oBYCI3YMsmyj5w1QKw/IDUGzgn5Wo+HQQgy+qVfE2ua84tYtfzJsqw5qIUnY19ZOGthKWjc8b5+tb5y51mDwDWTAcAg4c2ArC6/IukFkvAOavk71wJQHZ0k/f8vi2+6v9F1IoO7ZB7UtCgX+O+7z8AyKwPjPt6Sfa5KwHodN4E4NQZNwDuW5vDdQeHYmpLKTrVLeMCeTAitehnPPwBIP/sGACPH4oOlatk7LrTS8KFlKLzE1HRdU2ylg1VjMfNmSBTPX0ANIw4Adid8xQAb0FGqIztfWw2laKWR/KpruP32rg5M5ueMceM836XNXRc2BybLaVokEl/4l4UTlUFPkm0SmIvHF20LaVokItNRwBIK/y15M7MxvexFwh/4j+xtSOU1+KUNTXaHY1pFDVNoAt23dx22Z55u9KX3Jk5TMtGXeuzA9Cypiic54/tF0alaBD7nWeSLrkrkcl+Lr2qprwxdO0SR2OyYRpFNfW/rsFQgRoNFajRUIEaDRWo0fgDz4Kplk1mWP0AAAAASUVORK5CYII=\" y=\"-9.692569\"/>\n   </g>\n   <g id=\"matplotlib.axis_5\">\n    <g id=\"xtick_5\">\n     <g id=\"line2d_9\">\n      <g>\n       <use style=\"stroke:#000000;stroke-width:0.8;\" x=\"166.493719\" xlink:href=\"#mba4932801e\" y=\"67.692569\"/>\n      </g>\n     </g>\n     <g id=\"text_9\">\n      <!-- 0 -->\n      <g transform=\"translate(163.312469 82.291006)scale(0.1 -0.1)\">\n       <use xlink:href=\"#DejaVuSans-48\"/>\n      </g>\n     </g>\n    </g>\n    <g id=\"xtick_6\">\n     <g id=\"line2d_10\">\n      <g>\n       <use style=\"stroke:#000000;stroke-width:0.8;\" x=\"218.033128\" xlink:href=\"#mba4932801e\" y=\"67.692569\"/>\n      </g>\n     </g>\n     <g id=\"text_10\">\n      <!-- 25 -->\n      <g transform=\"translate(211.670628 82.291006)scale(0.1 -0.1)\">\n       <use xlink:href=\"#DejaVuSans-50\"/>\n       <use x=\"63.623047\" xlink:href=\"#DejaVuSans-53\"/>\n      </g>\n     </g>\n    </g>\n   </g>\n   <g id=\"matplotlib.axis_6\">\n    <g id=\"ytick_5\">\n     <g id=\"line2d_11\">\n      <g>\n       <use style=\"stroke:#000000;stroke-width:0.8;\" x=\"165.462931\" xlink:href=\"#m695dd28f32\" y=\"10.999219\"/>\n      </g>\n     </g>\n     <g id=\"text_11\">\n      <!-- 0 -->\n      <g transform=\"translate(152.100431 14.798437)scale(0.1 -0.1)\">\n       <use xlink:href=\"#DejaVuSans-48\"/>\n      </g>\n     </g>\n    </g>\n    <g id=\"ytick_6\">\n     <g id=\"line2d_12\">\n      <g>\n       <use style=\"stroke:#000000;stroke-width:0.8;\" x=\"165.462931\" xlink:href=\"#m695dd28f32\" y=\"52.230746\"/>\n      </g>\n     </g>\n     <g id=\"text_12\">\n      <!-- 20 -->\n      <g transform=\"translate(145.737931 56.029965)scale(0.1 -0.1)\">\n       <use xlink:href=\"#DejaVuSans-50\"/>\n       <use x=\"63.623047\" xlink:href=\"#DejaVuSans-48\"/>\n      </g>\n     </g>\n    </g>\n   </g>\n   <g id=\"patch_13\">\n    <path d=\"M 165.462931 67.692569 \nL 165.462931 9.968431 \n\" style=\"fill:none;stroke:#000000;stroke-linecap:square;stroke-linejoin:miter;stroke-width:0.8;\"/>\n   </g>\n   <g id=\"patch_14\">\n    <path d=\"M 223.187069 67.692569 \nL 223.187069 9.968431 \n\" style=\"fill:none;stroke:#000000;stroke-linecap:square;stroke-linejoin:miter;stroke-width:0.8;\"/>\n   </g>\n   <g id=\"patch_15\">\n    <path d=\"M 165.462931 67.692569 \nL 223.187069 67.692569 \n\" style=\"fill:none;stroke:#000000;stroke-linecap:square;stroke-linejoin:miter;stroke-width:0.8;\"/>\n   </g>\n   <g id=\"patch_16\">\n    <path d=\"M 165.462931 9.968431 \nL 223.187069 9.968431 \n\" style=\"fill:none;stroke:#000000;stroke-linecap:square;stroke-linejoin:miter;stroke-width:0.8;\"/>\n   </g>\n  </g>\n  <g id=\"axes_4\">\n   <g id=\"patch_17\">\n    <path d=\"M 234.731897 67.692569 \nL 292.456034 67.692569 \nL 292.456034 9.968431 \nL 234.731897 9.968431 \nz\n\" style=\"fill:#ffffff;\"/>\n   </g>\n   <g clip-path=\"url(#p6b9364c74f)\">\n    <image height=\"58\" id=\"imagef7b5a3657d\" transform=\"scale(1 -1)translate(0 -58)\" width=\"58\" x=\"234.731897\" xlink:href=\"data:image/png;base64,\niVBORw0KGgoAAAANSUhEUgAAADoAAAA6CAYAAADhu0ooAAAABHNCSVQICAgIfAhkiAAAArxJREFUaIHt2V9oVmUcwPHP65xszhtFZOXmH4Rt4JAEozYSFymGFypjjurOurI/2l8o2EVXXkTkHwpMgkCcI+dAuxMEkUKcRYHNSTFjTUeKqBFbjG3v1sXp3diY0NxzfOU953tz4Hk4z+/5nS/n9zzPOZnNmaZxCWBevifwqEgTLTTSRAuN+UEGWb0SlLfdBUcqL4CTA8vAserKEGHmRGp0Nvz9VDlor2j/r6UoxLBBSYzRNNFCI8g7WnJvGHw/VAaeLx0CWxf2gZajjaDmnW4wNjgYIuysSIzRxCSaCXlMu3GqFnTXHwcj49kp/Tu2vAyy3b+FCvm/SYzRIMUoR2VTFxjpj0xON/pnw1KwLDUaH0GN5vh5eAzUFk9tr9v9E+htWwyy9+/HEX5GEmM0aNXNMbZpPXjt6Gmwvez2lP4tXS+BRS/+Hjr0A0mNhuB6a2T2yqYvZ+xv3PkqGP+xK64pTJAYo7FU3RxV+/8BxQ0zH8T7PoyulU1xziIiNRqC7NVfQX3Lm6D1409BRVG0wNZV9IJbq1aA0d6+2OaSGKOxVt3p3PyoHvzwxkFQnIne3V0928BwU7Sjyt65Ezx2ajQOitZWg6dPROtmy9IrmDzlrPtmL1jz3qXgsVOjcTK/Yjk43fktJo1eG4n6973/Fijr6AwWMzFGY11HH8TozX6w9rvd4OrGr8G6BVH/inejLxB3O8LFTI0+Cp44XgLOb4iuz5VEH7a/WnkW1O17G5QfujjnWIkxmpeqO52BXc+ALz45DKqKM+DIXzXgXPMGMP5H/8Q9s/2tkRrNBz2fPQt+aT48pT23J37h9T0TbaVnLs9q7MQYTUyieV1eprPoRvTc741F/1uXzFsQbOzUaD4oPxBtDBqe/ABce+VzTBYjmYcfOzFGH6vlJU4SYzRNtNBIEy000kQLjTTRQuNfYdWlVWu9GP8AAAAASUVORK5CYII=\" y=\"-9.692569\"/>\n   </g>\n   <g id=\"matplotlib.axis_7\">\n    <g id=\"xtick_7\">\n     <g id=\"line2d_13\">\n      <g>\n       <use style=\"stroke:#000000;stroke-width:0.8;\" x=\"235.762685\" xlink:href=\"#mba4932801e\" y=\"67.692569\"/>\n      </g>\n     </g>\n     <g id=\"text_13\">\n      <!-- 0 -->\n      <g transform=\"translate(232.581435 82.291006)scale(0.1 -0.1)\">\n       <use xlink:href=\"#DejaVuSans-48\"/>\n      </g>\n     </g>\n    </g>\n    <g id=\"xtick_8\">\n     <g id=\"line2d_14\">\n      <g>\n       <use style=\"stroke:#000000;stroke-width:0.8;\" x=\"287.302094\" xlink:href=\"#mba4932801e\" y=\"67.692569\"/>\n      </g>\n     </g>\n     <g id=\"text_14\">\n      <!-- 25 -->\n      <g transform=\"translate(280.939594 82.291006)scale(0.1 -0.1)\">\n       <use xlink:href=\"#DejaVuSans-50\"/>\n       <use x=\"63.623047\" xlink:href=\"#DejaVuSans-53\"/>\n      </g>\n     </g>\n    </g>\n   </g>\n   <g id=\"matplotlib.axis_8\">\n    <g id=\"ytick_7\">\n     <g id=\"line2d_15\">\n      <g>\n       <use style=\"stroke:#000000;stroke-width:0.8;\" x=\"234.731897\" xlink:href=\"#m695dd28f32\" y=\"10.999219\"/>\n      </g>\n     </g>\n     <g id=\"text_15\">\n      <!-- 0 -->\n      <g transform=\"translate(221.369397 14.798438)scale(0.1 -0.1)\">\n       <use xlink:href=\"#DejaVuSans-48\"/>\n      </g>\n     </g>\n    </g>\n    <g id=\"ytick_8\">\n     <g id=\"line2d_16\">\n      <g>\n       <use style=\"stroke:#000000;stroke-width:0.8;\" x=\"234.731897\" xlink:href=\"#m695dd28f32\" y=\"52.230746\"/>\n      </g>\n     </g>\n     <g id=\"text_16\">\n      <!-- 20 -->\n      <g transform=\"translate(215.006897 56.029965)scale(0.1 -0.1)\">\n       <use xlink:href=\"#DejaVuSans-50\"/>\n       <use x=\"63.623047\" xlink:href=\"#DejaVuSans-48\"/>\n      </g>\n     </g>\n    </g>\n   </g>\n   <g id=\"patch_18\">\n    <path d=\"M 234.731897 67.692569 \nL 234.731897 9.968431 \n\" style=\"fill:none;stroke:#000000;stroke-linecap:square;stroke-linejoin:miter;stroke-width:0.8;\"/>\n   </g>\n   <g id=\"patch_19\">\n    <path d=\"M 292.456034 67.692569 \nL 292.456034 9.968431 \n\" style=\"fill:none;stroke:#000000;stroke-linecap:square;stroke-linejoin:miter;stroke-width:0.8;\"/>\n   </g>\n   <g id=\"patch_20\">\n    <path d=\"M 234.731897 67.692569 \nL 292.456034 67.692569 \n\" style=\"fill:none;stroke:#000000;stroke-linecap:square;stroke-linejoin:miter;stroke-width:0.8;\"/>\n   </g>\n   <g id=\"patch_21\">\n    <path d=\"M 234.731897 9.968431 \nL 292.456034 9.968431 \n\" style=\"fill:none;stroke:#000000;stroke-linecap:square;stroke-linejoin:miter;stroke-width:0.8;\"/>\n   </g>\n  </g>\n  <g id=\"axes_5\">\n   <g id=\"patch_22\">\n    <path d=\"M 304.000862 67.692569 \nL 361.725 67.692569 \nL 361.725 9.968431 \nL 304.000862 9.968431 \nz\n\" style=\"fill:#ffffff;\"/>\n   </g>\n   <g clip-path=\"url(#p480d1749f9)\">\n    <image height=\"58\" id=\"imageefec9bc994\" transform=\"scale(1 -1)translate(0 -58)\" width=\"58\" x=\"304.000862\" xlink:href=\"data:image/png;base64,\niVBORw0KGgoAAAANSUhEUgAAADoAAAA6CAYAAADhu0ooAAAABHNCSVQICAgIfAhkiAAAA2tJREFUaIHt2W9olVUcwPHP3d3u5sZaK1Go/FOsMjBbMdAWIsm0N2XkH1pF5RDKSMWBhFKvmr3KESbFhEgRgqAkEnphZeAr57J/Qm21/myaLFFjtnCbc1svzu7qimL3tnuN3ef75p7ncM7zO+d+n/PnOU+sLrZyVB5QcLUbkCsKr2bw+NTrQUfzLNBetxMsW7EmFGg9OmGxIqPZJGkysTeEb68KJhd98xi4rqMbDE9gzMhoNjnx5O2grWo7aOhaCipeLgXDvWcnPGZkNJs0Pvt+ynVPUxVItH6etZiR0Wwwel81WH3N12BoNPzPpd/2gAtZjB0ZzQYnFoVZdWg0rJAjRnIWO2+M5k1Hc/roVvycu0f1YiKj2aD83daQaM5l1EBkNBv01S8YS32Ry7CIjGYpWH+YdYticTA0diz3y+qZYEbTr1mLHRm9EucfqBlPb2t5E8xLBFN7/rgRbD24DNy2ewCUHz0JGo4tBC0zPgP9s89n2ox/Td4YjaV7gB2fPg1sPvTxeN784iFQMPa/XW6z/ml/ebiHEPL+KX+Cw4NF4JVbqtNpSlrkjdG0x2ispBh/W/wnD9fVhzLnwpjsXHsTWFr3JWicdgDMLJwC495rEmGM9j51L7h2z6F0m3VFIqOXY3RgEBwZjI/n1RSHF+n+14OZxJLj4OYt4bdzSyi3rvoZMPftdrB1ehuIx2Lh3o+eDtf7KjCxx555YzTtWTfJT80LxtPt9W+AsyNhbK7qeByULP8djPT1pdQtKCsDZ1bOAx82vQqmxsPYnfPe86BqY2smTbskkdF06NwxH3y/POyQkuvoHZ+sBXM2dYHh02cuWf+R706BhoqulPyFL24Albv/+ywcGc2E3xprQdum7Sn5q358CFxYEdbei82eXB/qHd6cWm//uTD77ly8ONQ/nvnbTWQ0o5sVJcBA3V1gV8tr4IbCsJta070EdG8Lnw3LPgqfJgpKw8F2wQclYO+t+8L1mIe5u9aB2S9lPlYjoxPBqbVh77rjhbDOJndQSVNPd9WBuyuOgQ2VHSn1k+Vqvxr75P/gDxm3JTI6kSRPI7qfCOvrc/ccBBsrUw3d+dZ6UNoTmtRbG/bVs94JPhL7j2Tchrwxmjcdzcmj+38gb4xGHZ1sRB2dbEQdnWxEHZ1sRB2dbEQdnWz8Ba1G3dAT/On4AAAAAElFTkSuQmCC\" y=\"-9.692569\"/>\n   </g>\n   <g id=\"matplotlib.axis_9\">\n    <g id=\"xtick_9\">\n     <g id=\"line2d_17\">\n      <g>\n       <use style=\"stroke:#000000;stroke-width:0.8;\" x=\"305.03165\" xlink:href=\"#mba4932801e\" y=\"67.692569\"/>\n      </g>\n     </g>\n     <g id=\"text_17\">\n      <!-- 0 -->\n      <g transform=\"translate(301.8504 82.291006)scale(0.1 -0.1)\">\n       <use xlink:href=\"#DejaVuSans-48\"/>\n      </g>\n     </g>\n    </g>\n    <g id=\"xtick_10\">\n     <g id=\"line2d_18\">\n      <g>\n       <use style=\"stroke:#000000;stroke-width:0.8;\" x=\"356.571059\" xlink:href=\"#mba4932801e\" y=\"67.692569\"/>\n      </g>\n     </g>\n     <g id=\"text_18\">\n      <!-- 25 -->\n      <g transform=\"translate(350.208559 82.291006)scale(0.1 -0.1)\">\n       <use xlink:href=\"#DejaVuSans-50\"/>\n       <use x=\"63.623047\" xlink:href=\"#DejaVuSans-53\"/>\n      </g>\n     </g>\n    </g>\n   </g>\n   <g id=\"matplotlib.axis_10\">\n    <g id=\"ytick_9\">\n     <g id=\"line2d_19\">\n      <g>\n       <use style=\"stroke:#000000;stroke-width:0.8;\" x=\"304.000862\" xlink:href=\"#m695dd28f32\" y=\"10.999219\"/>\n      </g>\n     </g>\n     <g id=\"text_19\">\n      <!-- 0 -->\n      <g transform=\"translate(290.638362 14.798437)scale(0.1 -0.1)\">\n       <use xlink:href=\"#DejaVuSans-48\"/>\n      </g>\n     </g>\n    </g>\n    <g id=\"ytick_10\">\n     <g id=\"line2d_20\">\n      <g>\n       <use style=\"stroke:#000000;stroke-width:0.8;\" x=\"304.000862\" xlink:href=\"#m695dd28f32\" y=\"52.230746\"/>\n      </g>\n     </g>\n     <g id=\"text_20\">\n      <!-- 20 -->\n      <g transform=\"translate(284.275862 56.029965)scale(0.1 -0.1)\">\n       <use xlink:href=\"#DejaVuSans-50\"/>\n       <use x=\"63.623047\" xlink:href=\"#DejaVuSans-48\"/>\n      </g>\n     </g>\n    </g>\n   </g>\n   <g id=\"patch_23\">\n    <path d=\"M 304.000862 67.692569 \nL 304.000862 9.968431 \n\" style=\"fill:none;stroke:#000000;stroke-linecap:square;stroke-linejoin:miter;stroke-width:0.8;\"/>\n   </g>\n   <g id=\"patch_24\">\n    <path d=\"M 361.725 67.692569 \nL 361.725 9.968431 \n\" style=\"fill:none;stroke:#000000;stroke-linecap:square;stroke-linejoin:miter;stroke-width:0.8;\"/>\n   </g>\n   <g id=\"patch_25\">\n    <path d=\"M 304.000862 67.692569 \nL 361.725 67.692569 \n\" style=\"fill:none;stroke:#000000;stroke-linecap:square;stroke-linejoin:miter;stroke-width:0.8;\"/>\n   </g>\n   <g id=\"patch_26\">\n    <path d=\"M 304.000862 9.968431 \nL 361.725 9.968431 \n\" style=\"fill:none;stroke:#000000;stroke-linecap:square;stroke-linejoin:miter;stroke-width:0.8;\"/>\n   </g>\n  </g>\n </g>\n <defs>\n  <clipPath id=\"p67b43855d2\">\n   <rect height=\"57.724138\" width=\"57.724138\" x=\"26.925\" y=\"9.968431\"/>\n  </clipPath>\n  <clipPath id=\"p69dff7ae5c\">\n   <rect height=\"57.724138\" width=\"57.724138\" x=\"96.193966\" y=\"9.968431\"/>\n  </clipPath>\n  <clipPath id=\"pecb4a3a52d\">\n   <rect height=\"57.724138\" width=\"57.724138\" x=\"165.462931\" y=\"9.968431\"/>\n  </clipPath>\n  <clipPath id=\"p6b9364c74f\">\n   <rect height=\"57.724138\" width=\"57.724138\" x=\"234.731897\" y=\"9.968431\"/>\n  </clipPath>\n  <clipPath id=\"p480d1749f9\">\n   <rect height=\"57.724138\" width=\"57.724138\" x=\"304.000862\" y=\"9.968431\"/>\n  </clipPath>\n </defs>\n</svg>\n",
      "text/plain": "<Figure size 432x288 with 5 Axes>"
     },
     "metadata": {
      "needs_background": "light"
     },
     "output_type": "display_data"
    }
   ],
   "source": [
    "%matplotlib inline\n",
    "from matplotlib import pyplot as plt\n",
    "for i in range(5):\n",
    "    plt.subplot(1,5,1+i)\n",
    "    plt.imshow(train_images[i])"
   ]
  },
  {
   "cell_type": "markdown",
   "metadata": {},
   "source": [
    "The `subplot` command from `pyplot` is used to arrange the images one next to the other, and `imshow` displays one image. "
   ]
  },
  {
   "cell_type": "markdown",
   "metadata": {
    "slideshow": {
     "slide_type": "slide"
    }
   },
   "source": [
    "Let's have a look at the test data:"
   ]
  },
  {
   "cell_type": "code",
   "execution_count": 8,
   "metadata": {},
   "outputs": [
    {
     "data": {
      "text/plain": "(10000, 28, 28)"
     },
     "execution_count": 8,
     "metadata": {},
     "output_type": "execute_result"
    }
   ],
   "source": [
    "test_images.shape"
   ]
  },
  {
   "cell_type": "code",
   "execution_count": 9,
   "metadata": {},
   "outputs": [
    {
     "data": {
      "text/plain": "10000"
     },
     "execution_count": 9,
     "metadata": {},
     "output_type": "execute_result"
    }
   ],
   "source": [
    "len(test_labels)"
   ]
  },
  {
   "cell_type": "code",
   "execution_count": 10,
   "metadata": {},
   "outputs": [
    {
     "data": {
      "text/plain": "array([7, 2, 1, ..., 4, 5, 6], dtype=uint8)"
     },
     "execution_count": 10,
     "metadata": {},
     "output_type": "execute_result"
    }
   ],
   "source": [
    "test_labels"
   ]
  },
  {
   "cell_type": "markdown",
   "metadata": {
    "slideshow": {
     "slide_type": "slide"
    }
   },
   "source": [
    "Our workflow will be as follow: \n",
    "1. First we design a neural network. \n",
    "2. Then we will present our neural network with the training data, `train_images` and `train_labels`. \n",
    "3. The network will then learn to associate images and labels. \n",
    "4. Finally, we will ask the network to produce predictions for `test_images`, and we will verify if these predictions match the labels from `test_labels`.\n",
    "\n"
   ]
  },
  {
   "cell_type": "markdown",
   "metadata": {
    "slideshow": {
     "slide_type": "slide"
    }
   },
   "source": [
    "Let's build a simple **feedforward** network:"
   ]
  },
  {
   "cell_type": "code",
   "execution_count": 11,
   "metadata": {},
   "outputs": [],
   "source": [
    "from tensorflow.keras import models\n",
    "from tensorflow.keras import layers\n",
    "\n",
    "network = models.Sequential()\n",
    "network.add(layers.Dense(512, activation='relu', input_shape=(28 * 28,)))\n",
    "network.add(layers.Dense(10, activation='softmax'))"
   ]
  },
  {
   "cell_type": "markdown",
   "metadata": {},
   "source": [
    "* The above code specifies a sequence of two dense layers. This means that every node from one layer is connected to every node of the next layer.\n",
    "* The first layer has 512 nodes, and the activation function is *relu*. This is a very common activation function for the middle layers of a model. The first layer must specify the number of input nodes. In this case, there are 28 * 28 = 784 nodes.\n",
    "* The final layer has 10 nodes, one per final label. The activation function is *softmax*. This activation functions is very common for multi-class classification."
   ]
  },
  {
   "cell_type": "markdown",
   "metadata": {
    "slideshow": {
     "slide_type": "notes"
    }
   },
   "source": [
    "\n",
    "The core building block of neural networks is the **layer**, a data-processing module which you can conceive as a \"filter\" for data. Some \n",
    "data comes in, and comes out in a more useful form. Precisely, layers extract _representations_ out of the data fed into them -- hopefully \n",
    "representations that are more meaningful for the problem at hand. Most of deep learning really consists of chaining together simple layers \n",
    "which will implement a form of progressive \"data distillation\". A deep learning model is like a sieve for data processing, made of a \n",
    "succession of increasingly refined data filters -- the \"layers\".\n",
    "\n",
    "Here our network consists of a sequence of two `Dense` layers, which are densely-connected (also called \"fully-connected\") neural layers. \n",
    "The second (and last) layer is a 10-way \"softmax\" layer, which means it will return an array of 10 probability scores (summing to 1). Each \n",
    "score will be the probability that the current digit image belongs to one of our 10 digit classes.\n"
   ]
  },
  {
   "cell_type": "markdown",
   "metadata": {
    "slideshow": {
     "slide_type": "slide"
    }
   },
   "source": [
    "To make our network ready for training, we need to pick three more things, as part of the \"compilation\" step:\n",
    "\n",
    "1. A **loss function**: this is how the network will be able to measure how good a job it is doing on its training data, and thus how it will be \n",
    "able to steer itself in the right direction. We will use *categorical crossentropy*, which is a common loss function for multi-class classification.\n",
    "2. An **optimizer**: this is the mechanism through which the network will update itself based on the data it sees and its loss function.\n",
    "3. **Metrics to monitor during training and testing**. Here we will only care about accuracy (the fraction of the images that were correctly \n",
    "classified).\n"
   ]
  },
  {
   "cell_type": "code",
   "execution_count": 12,
   "metadata": {},
   "outputs": [],
   "source": [
    "network.compile(optimizer='rmsprop',\n",
    "                loss='categorical_crossentropy',\n",
    "                metrics=['accuracy'])"
   ]
  },
  {
   "cell_type": "markdown",
   "metadata": {
    "slideshow": {
     "slide_type": "slide"
    }
   },
   "source": [
    "The `summary` method helps us understand the structure of the model."
   ]
  },
  {
   "cell_type": "code",
   "execution_count": 13,
   "metadata": {},
   "outputs": [
    {
     "name": "stdout",
     "output_type": "stream",
     "text": "Model: \"sequential\"\n_________________________________________________________________\nLayer (type)                 Output Shape              Param #   \n=================================================================\ndense (Dense)                (None, 512)               401920    \n_________________________________________________________________\ndense_1 (Dense)              (None, 10)                5130      \n=================================================================\nTotal params: 407,050\nTrainable params: 407,050\nNon-trainable params: 0\n_________________________________________________________________\n"
    }
   ],
   "source": [
    "network.summary()"
   ]
  },
  {
   "cell_type": "markdown",
   "metadata": {},
   "source": [
    "As we see, the model is composed of two layers. The last layer has one node per final label.\n",
    "\n",
    "There are 407,050 parameters. Can you work out why? *(hint: note that all nodes of each layer are connected to the nodes of the next layer, and there is an additional hidden node in each layer that represents the bias)*"
   ]
  },
  {
   "cell_type": "markdown",
   "metadata": {
    "slideshow": {
     "slide_type": "slide"
    }
   },
   "source": [
    "\n",
    "Before training, we will preprocess our data by reshaping it into the shape that the network expects, and scaling it so that all values are in \n",
    "the `[0, 1]` interval. Previously, our training images for instance were stored in an array of shape `(60000, 28, 28)` of type `uint8` with \n",
    "values in the `[0, 255]` interval. We transform it into a `float32` array of shape `(60000, 28 * 28)` with values between 0 and 1."
   ]
  },
  {
   "cell_type": "code",
   "execution_count": 14,
   "metadata": {},
   "outputs": [],
   "source": [
    "train_images = train_images.reshape((60000, 28 * 28))\n",
    "train_images = train_images.astype('float32') / 255\n",
    "\n",
    "test_images = test_images.reshape((10000, 28 * 28))\n",
    "test_images = test_images.astype('float32') / 255"
   ]
  },
  {
   "cell_type": "markdown",
   "metadata": {
    "slideshow": {
     "slide_type": "slide"
    }
   },
   "source": [
    "We also need to categorically encode the labels using **one-hot encoding**."
   ]
  },
  {
   "cell_type": "code",
   "execution_count": 15,
   "metadata": {},
   "outputs": [],
   "source": [
    "from tensorflow.keras.utils import to_categorical\n",
    "\n",
    "train_labels = to_categorical(train_labels)\n",
    "test_labels = to_categorical(test_labels)"
   ]
  },
  {
   "cell_type": "code",
   "execution_count": 16,
   "metadata": {},
   "outputs": [
    {
     "data": {
      "text/plain": "(60000, 10)"
     },
     "execution_count": 16,
     "metadata": {},
     "output_type": "execute_result"
    }
   ],
   "source": [
    "train_labels.shape"
   ]
  },
  {
   "cell_type": "code",
   "execution_count": 17,
   "metadata": {},
   "outputs": [
    {
     "data": {
      "text/plain": "array([0., 0., 0., 0., 0., 1., 0., 0., 0., 0.], dtype=float32)"
     },
     "execution_count": 17,
     "metadata": {},
     "output_type": "execute_result"
    }
   ],
   "source": [
    "train_labels[0]"
   ]
  },
  {
   "cell_type": "markdown",
   "metadata": {
    "slideshow": {
     "slide_type": "slide"
    }
   },
   "source": [
    "We are now ready to train our network, which in Keras is done via a call to the `fit` method of the network: \n",
    "we \"fit\" the model to its training data."
   ]
  },
  {
   "cell_type": "code",
   "execution_count": 18,
   "metadata": {},
   "outputs": [
    {
     "name": "stdout",
     "output_type": "stream",
     "text": "Train on 60000 samples\nEpoch 1/5\n60000/60000 [==============================] - 3s 55us/sample - loss: 0.2531 - accuracy: 0.9261\nEpoch 2/5\n60000/60000 [==============================] - 1s 16us/sample - loss: 0.1043 - accuracy: 0.9700\nEpoch 3/5\n60000/60000 [==============================] - 1s 15us/sample - loss: 0.0684 - accuracy: 0.9796\nEpoch 4/5\n60000/60000 [==============================] - 1s 16us/sample - loss: 0.0499 - accuracy: 0.9850\nEpoch 5/5\n60000/60000 [==============================] - 1s 16us/sample - loss: 0.0374 - accuracy: 0.9890\n"
    },
    {
     "data": {
      "text/plain": "<tensorflow.python.keras.callbacks.History at 0x7ff86df645f8>"
     },
     "execution_count": 18,
     "metadata": {},
     "output_type": "execute_result"
    }
   ],
   "source": [
    "network.fit(train_images, train_labels, epochs=5, batch_size=128)"
   ]
  },
  {
   "cell_type": "markdown",
   "metadata": {},
   "source": [
    "Two quantities are being displayed during training: the \"loss\" of the network over the training data, and the accuracy of the network over \n",
    "the training data.\n",
    "\n",
    "We quickly reach an accuracy of 0.989 (i.e. 98.9%) on the training data. "
   ]
  },
  {
   "cell_type": "markdown",
   "metadata": {
    "slideshow": {
     "slide_type": "slide"
    }
   },
   "source": [
    "Now let's check that our model performs well on the test set too:"
   ]
  },
  {
   "cell_type": "code",
   "execution_count": 19,
   "metadata": {},
   "outputs": [
    {
     "name": "stdout",
     "output_type": "stream",
     "text": "10000/10000 [==============================] - 0s 47us/sample - loss: 0.0686 - accuracy: 0.9780\n"
    }
   ],
   "source": [
    "test_loss, test_acc = network.evaluate(test_images, test_labels)"
   ]
  },
  {
   "cell_type": "code",
   "execution_count": 20,
   "metadata": {},
   "outputs": [
    {
     "name": "stdout",
     "output_type": "stream",
     "text": "test_acc: 0.978\n"
    }
   ],
   "source": [
    "print('test_acc:', test_acc)"
   ]
  },
  {
   "cell_type": "markdown",
   "metadata": {},
   "source": [
    "\n",
    "Our test set accuracy turns out to be 97.8% -- that's quite a bit lower than the training set accuracy. \n",
    "This gap between training accuracy and test accuracy is an example of **overfitting**, \n",
    "the fact that machine learning models tend to perform worse on new data than on their training data. \n"
   ]
  },
  {
   "cell_type": "markdown",
   "metadata": {
    "slideshow": {
     "slide_type": "notes"
    }
   },
   "source": [
    "This concludes our very first example -- you just saw how we could build and a train a neural network to classify handwritten digits, in \n",
    "less than 20 lines of Python code. In the next notebook, we will go in detail over every moving piece we just previewed, and clarify what is really \n",
    "going on behind the scenes. You will learn about \"tensors\", the data-storing objects going into the network, about tensor operations, which \n",
    "layers are made of, and about gradient descent, which allows our network to learn from its training examples."
   ]
  },
  {
   "cell_type": "code",
   "execution_count": null,
   "metadata": {},
   "outputs": [],
   "source": []
  }
 ],
 "metadata": {
  "celltoolbar": "Slideshow",
  "kernelspec": {
   "display_name": "Python 3.7.3 64-bit ('base': conda)",
   "language": "python",
   "name": "python37364bitbaseconda7888c9435b7a4785acd3247931e842c4"
  },
  "language_info": {
   "codemirror_mode": {
    "name": "ipython",
    "version": 3
   },
   "file_extension": ".py",
   "mimetype": "text/x-python",
   "name": "python",
   "nbconvert_exporter": "python",
   "pygments_lexer": "ipython3",
   "version": "3.7.3-final"
  }
 },
 "nbformat": 4,
 "nbformat_minor": 2
}